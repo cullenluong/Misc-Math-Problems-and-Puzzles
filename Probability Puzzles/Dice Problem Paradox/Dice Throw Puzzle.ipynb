{
 "cells": [
  {
   "cell_type": "code",
   "execution_count": 1,
   "id": "a4e6ee65",
   "metadata": {},
   "outputs": [],
   "source": [
    "import numpy as np\n",
    "import pandas as pd"
   ]
  },
  {
   "cell_type": "markdown",
   "id": "10e1c9eb",
   "metadata": {},
   "source": [
    "For an intro to this problem read this blogpost beforehand.\n",
    "https://gilkalai.wordpress.com/2017/09/07/tyi-30-expected-number-of-dice-throws/"
   ]
  },
  {
   "cell_type": "markdown",
   "id": "65647807",
   "metadata": {},
   "source": [
    "This probability puzzle gives a counterintuitive result to many, although it really shouldn't. I believe I have a simpler explanation as well as a way to generalize it.Let's think about what this question is asking really asking. A possible sequence of rolls might look like this \n",
    "\n",
    "$$2,4,2,6$$\n",
    "\n",
    "But it might also look like this\n",
    "\n",
    "$$2,4,4,2,5,2,6$$\n",
    "\n",
    "This would be recorded as a rolling a sequence of a single roll of 2 followed by 6. That is a length of 2 rolls to get a 6. \n",
    "\n",
    "$$2,6$$\n",
    "\n",
    "Why? Because we assume that when we get a 'bad' result we start over, or ignore the result. So let's start by asking ourselves a slightly different question. What is the probability of a rolling dice of 6 with sequence length 1 (no previous sequences of even values or anything).\n",
    "\n",
    "First we roll the die and probability it will land is simply $\\frac{1}{6}$ of course.\n",
    "But if we fail our possibilities are either we roll an even number and that would be recorded as a different sequence lengths of. Or we get and odd number $1,3,5$ and we start over, potentially giving us another chance to roll a 6 on the first try. Thus we write this as a recursive probability. \n",
    "\n",
    "$$P(r_1) = \\frac{1}{6} + P(r_{1})\\left( \\frac{3}{6} \\right) \\sum\\limits^{\\infty}_{i=0} \\left( \\frac{k}{6}\\right)^i$$\n",
    "\n",
    "The sum is over the successful sequences of evens followed by an odd number that forces us to restart and putting us back where we started. That is you multiply the probability of successful rolls of length $i$ followed the probability of hitting a 1,3,or 5. Because dice is rolling memoryless you are back where you are started and you so simply multiply the probability of rolling a sequence of length 1.\n",
    "\n",
    "We can generalize this logic to the probability of rolling any sequence of length $j$. \n",
    "$$P(r_j) = \\frac{1}{6}\\left( \\frac{2}{6} \\right)^{j-1} + P(r_j) \\left(\\frac{3}{6}\\right)\\sum\\limits^{\\infty}_{i=0} \\left( \\frac{k}{6}\\right)^i$$\n",
    "We can solve for the probability and simplify the sum using geometric series and we get\n",
    "$$P(r_{j})= \\left(\\frac{4}{6}\\right)\\left( \\frac{k}{n} \\right)^{j-1}$$\n",
    "\n",
    "We can then take the expected value as a sum over all the possible sequences. \n",
    "$$E[6|\\text{Even sequences beforehand}] = \\sum\\limits^{\\infty}_{j=1} jP(r_{j}) $$\n",
    "$$E[6|\\text{Even sequences beforehand}] = (\\frac{4}{6})\\sum\\limits^{\\infty}_{i=1} i ( \\frac{2}{6})^{i-1}$$\n",
    "It can be easily verified that this is 3/2 as expected.\n",
    "We can also check the probabilities for each possible sequences. I've wrote a python script below to verify this and to generalize our formula.\n",
    "\n",
    "\n",
    "\n"
   ]
  },
  {
   "cell_type": "markdown",
   "id": "e16531bd",
   "metadata": {},
   "source": [
    "\n",
    "\n",
    "We can go even further. What if we generalize this by asking for example the expected value given a series of 1s before a 6? What if we roll an n sided die with some specified prior distribution?\n",
    "For example what if we rolled an 20 sided die, with prior distribution of say $1,2,3,4,5,6,7$ followed by $19,20$ and wanted to know the expected value and expected value. We can generalize this like so.\n",
    "\n",
    "\n",
    "$$P(r_j) = \\frac{w}{n}\\left( \\frac{k}{n} \\right)^{j-1} +P(r_j) \\left( 1-\\frac{k+w}{n} \\right)  \\sum\\limits^{\\infty}_{i=0} \\left( \\frac{k}{n}\\right)^i$$\n",
    "$$P(r_{j})= (1-\\frac{n}{k})\\left( \\frac{k}{n} \\right)^{j-1}$$\n",
    "\n"
   ]
  },
  {
   "cell_type": "markdown",
   "id": "2f11a600",
   "metadata": {},
   "source": [
    "\n",
    "So in summary the generalization of dice throwing problem and solution. \n",
    "$P(r_j)$ is probabilty of rolling an n-sided dice of sequence length $j$ with each throw in prior sequence having $k$ possible outcomes. In above problem $k = 2$ since you can only have even numbers {2,4} before throwing a 6.\n",
    "$$P(r_{j})= (1-\\frac{n}{k})\\left( \\frac{k}{n} \\right)^{j-1}$$\n",
    "\n",
    "$$E[\\text{throwing $[w]$}|\\text{k possibilties before}] = (1-\\frac{k}{n})\\sum\\limits^{\\infty}_{i=1} i ( \\frac{k}{n})^{i-1}$$\n",
    "\n",
    "$w$ is the number of winning dice numbers. For example in the original game $w$ is just 1, for the single number 6. But we could generalize this by saying we end the game when we roll a 5 or a 6. \n",
    "\n",
    "$k$ is the number of possible prior distributions before the winning dice throw. In the original game we have $k=2$ for $2,4$. But we could ask what happens if we set $k=1$ by asking if we throwing only 1s before throwing a 6.\n",
    "\n",
    "*Note that the $w$ cancels out. This is because even if we have increased probability that a die will land on 5 or 6, this also decreases the chance it will restart. This can be easily verified by my code. \n"
   ]
  },
  {
   "cell_type": "code",
   "execution_count": 2,
   "id": "3b8cbb10",
   "metadata": {},
   "outputs": [],
   "source": [
    "def probability(n,k,j):\n",
    "    value = 1.\n",
    "    for i in range(1,j):\n",
    "        value = value*(k/n)\n",
    "    return (1-k/n)*value\n",
    "\n",
    "def expectation_value(n,k):\n",
    "    terms = 100\n",
    "    value = 1.\n",
    "    total = value\n",
    "    for i in range(2,terms-1):\n",
    "        value = value*(k/n)\n",
    "        total += value*i\n",
    "    return (1-k/n)*total\n",
    "\n",
    "table = np.vectorize(probability,excluded=['n','k'])"
   ]
  },
  {
   "cell_type": "code",
   "execution_count": 3,
   "id": "ace9f3ea",
   "metadata": {},
   "outputs": [
    {
     "name": "stdout",
     "output_type": "stream",
     "text": [
      "Predicted Results\n",
      "   Sequence Length  Probability\n",
      "0                1      0.66667\n",
      "1                2      0.22222\n",
      "2                3      0.07407\n",
      "3                4      0.02469\n",
      "4                5      0.00823\n",
      "5                6      0.00274\n",
      "6                7      0.00091\n",
      "Expectation Value:  1.4999999999999998\n"
     ]
    }
   ],
   "source": [
    "rolls = 7\n",
    "n = 6.\n",
    "k = 2.\n",
    "probs = np.around(table(n,k,np.arange(1,rolls+1)),5)\n",
    "print(\"Predicted Results\")\n",
    "df = pd.DataFrame({'Sequence Length': np.arange(1,rolls+1),'Probability':probs})\n",
    "df.style.hide(axis='index')\n",
    "print(df)\n",
    "print(\"Expectation Value: \",expectation_value(n,k))"
   ]
  },
  {
   "cell_type": "code",
   "execution_count": 4,
   "id": "099fac65",
   "metadata": {},
   "outputs": [
    {
     "name": "stdout",
     "output_type": "stream",
     "text": [
      "Predicted Results for odd numbers before 6\n",
      "   Sequence Length  Probability\n",
      "0                1      0.83333\n",
      "1                2      0.13889\n",
      "2                3      0.02315\n",
      "3                4      0.00386\n",
      "4                5      0.00064\n",
      "5                6      0.00011\n",
      "6                7      0.00002\n",
      "Expectation Value:  1.2000000000000002\n"
     ]
    }
   ],
   "source": [
    "rolls = 7\n",
    "n = 6.\n",
    "k = 1.\n",
    "probs = np.around(table(n,k,np.arange(1,rolls+1)),5)\n",
    "print(\"Predicted Results for odd numbers before 6\")\n",
    "df = pd.DataFrame({'Sequence Length': np.arange(1,rolls+1),'Probability':probs})\n",
    "df.style.hide(axis='index')\n",
    "print(df)\n",
    "print(\"Expectation Value: \",expectation_value(n,k))"
   ]
  },
  {
   "cell_type": "code",
   "execution_count": 5,
   "id": "56f58451",
   "metadata": {},
   "outputs": [
    {
     "name": "stdout",
     "output_type": "stream",
     "text": [
      "Predicted Results for 1s only before 6\n",
      "   Sequence Length  Probability\n",
      "0                1      0.50000\n",
      "1                2      0.25000\n",
      "2                3      0.12500\n",
      "3                4      0.06250\n",
      "4                5      0.03125\n",
      "5                6      0.01562\n",
      "6                7      0.00781\n",
      "Expectation Value:  1.9999999999999998\n"
     ]
    }
   ],
   "source": [
    "rolls = 7\n",
    "n = 6.\n",
    "k = 3.\n",
    "probs = np.around(table(n,k,np.arange(1,rolls+1)),5)\n",
    "print(\"Predicted Results for 1s only before 6\")\n",
    "df = pd.DataFrame({'Sequence Length': np.arange(1,rolls+1),'Probability':probs})\n",
    "df.style.hide(axis='index')\n",
    "print(df)\n",
    "print(\"Expectation Value: \",expectation_value(n,k))"
   ]
  },
  {
   "cell_type": "markdown",
   "id": "0635bdb2",
   "metadata": {},
   "source": [
    "# Run simulation"
   ]
  },
  {
   "cell_type": "code",
   "execution_count": 6,
   "id": "488d6df6",
   "metadata": {},
   "outputs": [],
   "source": [
    "%run -i \"dicethrows.py\""
   ]
  },
  {
   "cell_type": "code",
   "execution_count": 7,
   "id": "19325ef9",
   "metadata": {},
   "outputs": [
    {
     "name": "stdout",
     "output_type": "stream",
     "text": [
      "Total Trials: 10000\n",
      "Number of Rolls with Length of  1 : 6691 ,Percentage of Trials: 66.91%\n",
      "Number of Rolls with Length of  2 : 2171 ,Percentage of Trials: 21.71%\n",
      "Number of Rolls with Length of  3 : 757 ,Percentage of Trials: 7.57%\n",
      "Number of Rolls with Length of  4 : 256 ,Percentage of Trials: 2.56%\n",
      "Number of Rolls with Length of  5 : 88 ,Percentage of Trials: 0.88%\n",
      "Number of Rolls with Length of  6 : 27 ,Percentage of Trials: 0.27%\n",
      "Number of Rolls with Length of  7 : 8 ,Percentage of Trials: 0.08%\n",
      "Number of Rolls with Length of  8 : 2 ,Percentage of Trials: 0.02%\n",
      "Number of Rolls with Length of  9 : 0 ,Percentage of Trials: 0.00%\n",
      "Number of Rolls with Length of  10 : 0 ,Percentage of Trials: 0.00%\n",
      "Number of Rolls with Length of  11 : 0 ,Percentage of Trials: 0.00%\n",
      "Number of Rolls with Length of  12 : 0 ,Percentage of Trials: 0.00%\n",
      "Number of Rolls with Length of  13 : 0 ,Percentage of Trials: 0.00%\n",
      "Number of Rolls with Length of  14 : 0 ,Percentage of Trials: 0.00%\n",
      "Number of Rolls with Length of  15 : 0 ,Percentage of Trials: 0.00%\n",
      "Expected Value:  1.500200\n"
     ]
    }
   ],
   "source": [
    "rolls,trials = simulate(prior=[2,4],win=[6],n=6.,ntrials=10000)\n",
    "print_results(rolls,trials)"
   ]
  },
  {
   "cell_type": "code",
   "execution_count": 8,
   "id": "8a14a1b8",
   "metadata": {},
   "outputs": [
    {
     "name": "stdout",
     "output_type": "stream",
     "text": [
      "Total Trials: 10000\n",
      "Number of Rolls with Length of  1 : 5015 ,Percentage of Trials: 50.15%\n",
      "Number of Rolls with Length of  2 : 2521 ,Percentage of Trials: 25.21%\n",
      "Number of Rolls with Length of  3 : 1274 ,Percentage of Trials: 12.74%\n",
      "Number of Rolls with Length of  4 : 570 ,Percentage of Trials: 5.70%\n",
      "Number of Rolls with Length of  5 : 306 ,Percentage of Trials: 3.06%\n",
      "Number of Rolls with Length of  6 : 161 ,Percentage of Trials: 1.61%\n",
      "Number of Rolls with Length of  7 : 87 ,Percentage of Trials: 0.87%\n",
      "Number of Rolls with Length of  8 : 38 ,Percentage of Trials: 0.38%\n",
      "Number of Rolls with Length of  9 : 19 ,Percentage of Trials: 0.19%\n",
      "Number of Rolls with Length of  10 : 5 ,Percentage of Trials: 0.05%\n",
      "Number of Rolls with Length of  11 : 3 ,Percentage of Trials: 0.03%\n",
      "Number of Rolls with Length of  12 : 0 ,Percentage of Trials: 0.00%\n",
      "Number of Rolls with Length of  13 : 1 ,Percentage of Trials: 0.01%\n",
      "Number of Rolls with Length of  14 : 0 ,Percentage of Trials: 0.00%\n",
      "Number of Rolls with Length of  15 : 0 ,Percentage of Trials: 0.00%\n",
      "Expected Value:  1.983500\n"
     ]
    }
   ],
   "source": [
    "rolls,trials = simulate(prior=[1,3,5],win=[6],n=6.)\n",
    "print_results(rolls,trials)"
   ]
  },
  {
   "cell_type": "code",
   "execution_count": 9,
   "id": "c2189a47",
   "metadata": {},
   "outputs": [
    {
     "name": "stdout",
     "output_type": "stream",
     "text": [
      "Total Trials: 10000\n",
      "Number of Rolls with Length of  1 : 8284 ,Percentage of Trials: 82.84%\n",
      "Number of Rolls with Length of  2 : 1417 ,Percentage of Trials: 14.17%\n",
      "Number of Rolls with Length of  3 : 243 ,Percentage of Trials: 2.43%\n",
      "Number of Rolls with Length of  4 : 47 ,Percentage of Trials: 0.47%\n",
      "Number of Rolls with Length of  5 : 9 ,Percentage of Trials: 0.09%\n",
      "Number of Rolls with Length of  6 : 0 ,Percentage of Trials: 0.00%\n",
      "Number of Rolls with Length of  7 : 0 ,Percentage of Trials: 0.00%\n",
      "Number of Rolls with Length of  8 : 0 ,Percentage of Trials: 0.00%\n",
      "Number of Rolls with Length of  9 : 0 ,Percentage of Trials: 0.00%\n",
      "Number of Rolls with Length of  10 : 0 ,Percentage of Trials: 0.00%\n",
      "Number of Rolls with Length of  11 : 0 ,Percentage of Trials: 0.00%\n",
      "Number of Rolls with Length of  12 : 0 ,Percentage of Trials: 0.00%\n",
      "Number of Rolls with Length of  13 : 0 ,Percentage of Trials: 0.00%\n",
      "Number of Rolls with Length of  14 : 0 ,Percentage of Trials: 0.00%\n",
      "Number of Rolls with Length of  15 : 0 ,Percentage of Trials: 0.00%\n",
      "Expected Value:  1.208000\n"
     ]
    }
   ],
   "source": [
    "rolls,trials = simulate(prior=[1],win=[6],n=6.)\n",
    "print_results(rolls,trials)"
   ]
  },
  {
   "cell_type": "code",
   "execution_count": null,
   "id": "8d930a54",
   "metadata": {},
   "outputs": [],
   "source": []
  }
 ],
 "metadata": {
  "kernelspec": {
   "display_name": "Python 3 (ipykernel)",
   "language": "python",
   "name": "python3"
  },
  "language_info": {
   "codemirror_mode": {
    "name": "ipython",
    "version": 3
   },
   "file_extension": ".py",
   "mimetype": "text/x-python",
   "name": "python",
   "nbconvert_exporter": "python",
   "pygments_lexer": "ipython3",
   "version": "3.9.15"
  }
 },
 "nbformat": 4,
 "nbformat_minor": 5
}
